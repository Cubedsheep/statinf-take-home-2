{
 "cells": [
  {
   "cell_type": "code",
   "execution_count": 1,
   "metadata": {},
   "outputs": [
    {
     "data": {
      "text/plain": [
       "Plots.GRBackend()"
      ]
     },
     "execution_count": 1,
     "metadata": {},
     "output_type": "execute_result"
    }
   ],
   "source": [
    "using ImplicitEquations\n",
    "using Plots\n",
    "gr()"
   ]
  },
  {
   "cell_type": "markdown",
   "metadata": {},
   "source": [
    "## Plot of the 99% confidence region"
   ]
  },
  {
   "cell_type": "code",
   "execution_count": 2,
   "metadata": {},
   "outputs": [],
   "source": [
    "function f(x, y)\n",
    "    X = [x; y]\n",
    "    mu = [1.0321764; 0.1904323]\n",
    "    sigma = [60 4.689758; 4.689758 19.063202]\n",
    "    S = 0.098341450\n",
    "    p = 2\n",
    "    return (X-mu)' * sigma * (X-mu) / (S*p)\n",
    "end\n",
    "\n",
    "plot(f ⩵ 4.990967, M=12, N=12, xlims=(0.9, 1.17), ylims=(-0.05, 0.45), lw=1.5, xlab=\"intercept\", ylab=\"slope\")\n",
    "\n",
    "savefig(\"region-1e.pdf\")"
   ]
  },
  {
   "cell_type": "markdown",
   "metadata": {},
   "source": [
    "## plot of the contour comprising 95% of the probability density"
   ]
  },
  {
   "cell_type": "code",
   "execution_count": 4,
   "metadata": {},
   "outputs": [],
   "source": [
    "function f(x, y)\n",
    "    X = [x; y]\n",
    "    mu = [1; 1]\n",
    "    sigma = [1.25 1.50; 1.50 5.25]\n",
    "    return (X-mu)' * sigma * (X-mu)\n",
    "end\n",
    "\n",
    "test_val = 5.991465     # 95% quantile of a chisquared distribution with 2 degrees of freedom\n",
    "\n",
    "plot(f ⩵ test_val, xlims=(-2, 4), ylims=(-0.5, 2.5), M=12, N=12, lw=1.5, xlab=\"X1\", ylab=\"X2\", aspect_ratio=:equal)\n",
    "\n",
    "savefig(\"region-3c.pdf\")"
   ]
  }
 ],
 "metadata": {
  "kernelspec": {
   "display_name": "Julia 1.2.0",
   "language": "julia",
   "name": "julia-1.2"
  },
  "language_info": {
   "file_extension": ".jl",
   "mimetype": "application/julia",
   "name": "julia",
   "version": "1.2.0"
  }
 },
 "nbformat": 4,
 "nbformat_minor": 4
}
